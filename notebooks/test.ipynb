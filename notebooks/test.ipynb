{
 "cells": [
  {
   "cell_type": "code",
   "execution_count": 1,
   "metadata": {},
   "outputs": [],
   "source": [
    "import os"
   ]
  },
  {
   "cell_type": "code",
   "execution_count": 3,
   "metadata": {},
   "outputs": [],
   "source": [
    "os.environ.get('BASIC_AUTH_USERNAME')"
   ]
  },
  {
   "cell_type": "code",
   "execution_count": 7,
   "metadata": {},
   "outputs": [
    {
     "data": {
      "text/plain": [
       "KeysView(environ({'COLORTERM': 'truecolor', 'COMMAND_MODE': 'unix2003', 'CONDA_DEFAULT_ENV': '.env_flask', 'CONDA_EXE': '/Users/yamada/miniforge3/bin/conda', 'CONDA_PREFIX': '/Users/yamada/miniforge3/envs/.env_flask', 'CONDA_PREFIX_1': '/Users/yamada/miniforge3', 'CONDA_PREFIX_2': '/Users/yamada/miniforge3/envs/.env_flask', 'CONDA_PREFIX_3': '/Users/yamada/miniforge3', 'CONDA_PROMPT_MODIFIER': '(.env_flask) ', 'CONDA_PYTHON_EXE': '/Users/yamada/miniforge3/bin/python', 'CONDA_SHLVL': '4', 'ELECTRON_NO_ATTACH_CONSOLE': '1', 'GIT_ASKPASS': '/Applications/Visual Studio Code.app/Contents/Resources/app/extensions/git/dist/askpass.sh', 'HOME': '/Users/yamada', 'HOMEBREW_CELLAR': '/opt/homebrew/Cellar', 'HOMEBREW_PREFIX': '/opt/homebrew', 'HOMEBREW_REPOSITORY': '/opt/homebrew', 'INFOPATH': '/opt/homebrew/share/info:/opt/homebrew/share/info:/opt/homebrew/share/info:', 'LANG': 'pt_BR.UTF-8', 'LESS': '-R', 'LOGNAME': 'yamada', 'LSCOLORS': 'Gxfxcxdxbxegedabagacad', 'MANPATH': '/Users/yamada/.nvm/versions/node/v16.17.0/share/man:/opt/homebrew/share/man:/usr/share/man:/usr/local/share/man:/Library/TeX/Distributions/.DefaultTeX/Contents/Man:/Users/yamada/.nvm/versions/node/v16.17.0/share/man:/opt/homebrew/share/man::', 'MallocNanoZone': '0', 'NVM_BIN': '/Users/yamada/.nvm/versions/node/v16.17.0/bin', 'NVM_CD_FLAGS': '-q', 'NVM_DIR': '/Users/yamada/.nvm', 'ORIGINAL_XDG_CURRENT_DESKTOP': 'undefined', 'PAGER': 'cat', 'PATH': '/Users/yamada/Programacao/Python/Alura/mlops_deploy/alura-mlops-deploy/env/bin:/Users/yamada/.nvm/versions/node/v16.17.0/bin:/Users/yamada/.rbenv/shims:/opt/homebrew/opt/ruby/bin:/opt/homebrew/bin:/opt/homebrew/sbin:/usr/local/bin:/System/Cryptexes/App/usr/bin:/usr/bin:/bin:/usr/sbin:/sbin:/usr/local/texlive/2022/bin/universal-darwin:/Library/TeX/texbin:/Library/Apple/usr/bin:/var/run/com.apple.security.cryptexd/codex.system/bootstrap/usr/local/bin:/var/run/com.apple.security.cryptexd/codex.system/bootstrap/usr/bin:/var/run/com.apple.security.cryptexd/codex.system/bootstrap/usr/appleinternal/bin:/Users/yamada/.nvm/versions/node/v16.17.0/bin:/Users/yamada/.rbenv/shims:/opt/homebrew/opt/ruby/bin:/opt/homebrew/bin:/opt/homebrew/sbin:/Users/yamada/miniforge3/envs/.env_flask/bin:/Users/yamada/miniforge3/condabin:/Users/yamada/.cargo/bin:/Applications/Postgres.app/Contents/Versions/14/bin:/Applications/Postgres.app/Contents/Versions/14/bin', 'PWD': '/', 'RBENV_SHELL': 'zsh', 'SHELL': '/bin/zsh', 'SHLVL': '5', 'SSH_AUTH_SOCK': '/private/tmp/com.apple.launchd.2h0UEmG0yp/Listeners', 'TERM': 'xterm-color', 'TERM_PROGRAM': 'vscode', 'TERM_PROGRAM_VERSION': '1.82.2', 'TMPDIR': '/var/folders/46/d1gyxnd907l7618h776pcl700000gp/T/', 'USER': 'yamada', 'USER_ZDOTDIR': '/Users/yamada', 'VSCODE_AMD_ENTRYPOINT': 'vs/workbench/api/node/extensionHostProcess', 'VSCODE_CLI': '1', 'VSCODE_CODE_CACHE_PATH': '/Users/yamada/Library/Application Support/Code/CachedData/abd2f3db4bdb28f9e95536dfa84d8479f1eb312d', 'VSCODE_CRASH_REPORTER_PROCESS_TYPE': 'extensionHost', 'VSCODE_CWD': '/Users/yamada/Programacao/Python/Alura/mlops_deploy/alura-mlops-deploy', 'VSCODE_GIT_ASKPASS_EXTRA_ARGS': '--ms-enable-electron-run-as-node', 'VSCODE_GIT_ASKPASS_MAIN': '/Applications/Visual Studio Code.app/Contents/Resources/app/extensions/git/dist/askpass-main.js', 'VSCODE_GIT_ASKPASS_NODE': '/Applications/Visual Studio Code.app/Contents/Frameworks/Code Helper (Plugin).app/Contents/MacOS/Code Helper (Plugin)', 'VSCODE_GIT_IPC_HANDLE': '/var/folders/46/d1gyxnd907l7618h776pcl700000gp/T/vscode-git-1bc9939cab.sock', 'VSCODE_HANDLES_UNCAUGHT_ERRORS': 'true', 'VSCODE_INJECTION': '1', 'VSCODE_IPC_HOOK': '/Users/yamada/Library/Application Support/Code/1.82-main.sock', 'VSCODE_NLS_CONFIG': '{\"locale\":\"pt-br\",\"osLocale\":\"pt-us\",\"availableLanguages\":{\"*\":\"pt-br\"},\"_languagePackId\":\"0cd4f81cbb3beeb1042e62eb3d2a473c.pt-br\",\"_translationsConfigFile\":\"/Users/yamada/Library/Application Support/Code/clp/0cd4f81cbb3beeb1042e62eb3d2a473c.pt-br/tcf.json\",\"_cacheRoot\":\"/Users/yamada/Library/Application Support/Code/clp/0cd4f81cbb3beeb1042e62eb3d2a473c.pt-br\",\"_resolvedLanguagePackCoreLocation\":\"/Users/yamada/Library/Application Support/Code/clp/0cd4f81cbb3beeb1042e62eb3d2a473c.pt-br/abd2f3db4bdb28f9e95536dfa84d8479f1eb312d\",\"_corruptedFile\":\"/Users/yamada/Library/Application Support/Code/clp/0cd4f81cbb3beeb1042e62eb3d2a473c.pt-br/corrupted.info\",\"_languagePackSupport\":true}', 'VSCODE_PID': '59183', 'XPC_FLAGS': '0x0', 'XPC_SERVICE_NAME': '0', 'ZDOTDIR': '/Users/yamada', 'ZSH': '/Users/yamada/.oh-my-zsh', '__CFBundleIdentifier': 'com.microsoft.VSCode', '__CF_USER_TEXT_ENCODING': '0x1F6:0x0:0x47', 'ELECTRON_RUN_AS_NODE': '1', 'APPLICATION_INSIGHTS_NO_DIAGNOSTIC_CHANNEL': '1', 'PYTHONUNBUFFERED': '1', 'PYTHONIOENCODING': 'utf-8', 'VIRTUAL_ENV': '/Users/yamada/Programacao/Python/Alura/mlops_deploy/alura-mlops-deploy/env', 'PS1': '(env) ', 'VIRTUAL_ENV_PROMPT': 'env', '_': '/Users/yamada/Programacao/Python/Alura/mlops_deploy/alura-mlops-deploy/env/bin/python', 'PYDEVD_IPYTHON_COMPATIBLE_DEBUGGING': '1', 'CLICOLOR': '1', 'GIT_PAGER': 'cat', 'MPLBACKEND': 'module://matplotlib_inline.backend_inline'}))"
      ]
     },
     "execution_count": 7,
     "metadata": {},
     "output_type": "execute_result"
    }
   ],
   "source": [
    "os.environ.keys()"
   ]
  },
  {
   "cell_type": "code",
   "execution_count": null,
   "metadata": {},
   "outputs": [],
   "source": []
  }
 ],
 "metadata": {
  "kernelspec": {
   "display_name": "env",
   "language": "python",
   "name": "python3"
  },
  "language_info": {
   "codemirror_mode": {
    "name": "ipython",
    "version": 3
   },
   "file_extension": ".py",
   "mimetype": "text/x-python",
   "name": "python",
   "nbconvert_exporter": "python",
   "pygments_lexer": "ipython3",
   "version": "3.9.18"
  },
  "orig_nbformat": 4
 },
 "nbformat": 4,
 "nbformat_minor": 2
}
